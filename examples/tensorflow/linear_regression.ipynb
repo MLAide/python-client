{
 "cells": [
  {
   "cell_type": "markdown",
   "metadata": {},
   "source": [
    "# Linear Regression Example\n",
    "\n",
    "Linear regression implementation with TensorFlow v2 library.\n",
    "\n",
    "This example is using a low-level approach to better understand all mechanics behind the training process.\n",
    "\n",
    "- Author: Aymeric Damien\n",
    "- Project: https://github.com/aymericdamien/TensorFlow-Examples/"
   ]
  },
  {
   "cell_type": "code",
   "execution_count": 9,
   "metadata": {},
   "outputs": [],
   "source": [
    "from __future__ import absolute_import, division, print_function"
   ]
  },
  {
   "cell_type": "code",
   "execution_count": 10,
   "metadata": {},
   "outputs": [],
   "source": [
    "import tensorflow as tf\n",
    "import numpy as np\n",
    "rng = np.random"
   ]
  },
  {
   "cell_type": "code",
   "execution_count": 11,
   "metadata": {},
   "outputs": [],
   "source": [
    "# Parameters.\n",
    "learning_rate = 0.01\n",
    "training_steps = 1000\n",
    "display_step = 50"
   ]
  },
  {
   "cell_type": "code",
   "execution_count": 12,
   "metadata": {},
   "outputs": [],
   "source": [
    "# Training Data.\n",
    "X = np.array([3.3,4.4,5.5,6.71,6.93,4.168,9.779,6.182,7.59,2.167,\n",
    "              7.042,10.791,5.313,7.997,5.654,9.27,3.1])\n",
    "Y = np.array([1.7,2.76,2.09,3.19,1.694,1.573,3.366,2.596,2.53,1.221,\n",
    "              2.827,3.465,1.65,2.904,2.42,2.94,1.3])\n"
   ]
  },
  {
   "cell_type": "code",
   "execution_count": 34,
   "metadata": {},
   "outputs": [],
   "source": [
    "from mlaide.model import ArtifactRef\n",
    "from mlaide.client import MLAideClient, ConnectionOptions\n",
    "\n",
    "project_key = 'tf-test'\n",
    "options = ConnectionOptions(\n",
    "  server_url='http://192.168.178.24:9000/api/v1', \n",
    "  api_key='YXV0aDB8NWY1M2FiNjc0MmUzNDUwMDZkYjJiOGQyOjlNaMOX4oCm4oKtauKCqnNCROKAsg=='\n",
    ")\n",
    "mlaide_client = MLAideClient(project_key=project_key, options=options)"
   ]
  },
  {
   "cell_type": "code",
   "execution_count": 36,
   "metadata": {},
   "outputs": [],
   "source": [
    "run = mlaide_client.start_new_run(experiment_key='linear-regression', run_name='linear regression')"
   ]
  },
  {
   "cell_type": "code",
   "execution_count": 13,
   "metadata": {},
   "outputs": [],
   "source": [
    "# Weight and Bias, initialized randomly.\n",
    "W = tf.Variable(rng.randn(), name=\"weight\")\n",
    "b = tf.Variable(rng.randn(), name=\"bias\")\n",
    "\n",
    "# Linear regression (Wx + b).\n",
    "def linear_regression(x):\n",
    "    return W * x + b\n",
    "\n",
    "# Mean square error.\n",
    "def mean_square(y_pred, y_true):\n",
    "    return tf.reduce_mean(tf.square(y_pred - y_true))\n",
    "\n",
    "# Stochastic Gradient Descent Optimizer.\n",
    "optimizer = tf.optimizers.SGD(learning_rate)"
   ]
  },
  {
   "cell_type": "code",
   "execution_count": 14,
   "metadata": {},
   "outputs": [],
   "source": [
    "# Optimization process. \n",
    "def run_optimization():\n",
    "    # Wrap computation inside a GradientTape for automatic differentiation.\n",
    "    with tf.GradientTape() as g:\n",
    "        pred = linear_regression(X)\n",
    "        loss = mean_square(pred, Y)\n",
    "\n",
    "    # Compute gradients.\n",
    "    gradients = g.gradient(loss, [W, b])\n",
    "    \n",
    "    # Update W and b following gradients.\n",
    "    optimizer.apply_gradients(zip(gradients, [W, b]))"
   ]
  },
  {
   "cell_type": "code",
   "execution_count": 15,
   "metadata": {},
   "outputs": [
    {
     "name": "stdout",
     "output_type": "stream",
     "text": [
      "step: 50, loss: 0.300380, W: 0.405088, b: -0.289114\n",
      "step: 100, loss: 0.268764, W: 0.387528, b: -0.164617\n",
      "step: 150, loss: 0.243970, W: 0.371977, b: -0.054368\n",
      "step: 200, loss: 0.224526, W: 0.358205, b: 0.043266\n",
      "step: 250, loss: 0.209277, W: 0.346010, b: 0.129726\n",
      "step: 300, loss: 0.197319, W: 0.335210, b: 0.206292\n",
      "step: 350, loss: 0.187941, W: 0.325646, b: 0.274097\n",
      "step: 400, loss: 0.180587, W: 0.317176, b: 0.334142\n",
      "step: 450, loss: 0.174819, W: 0.309676, b: 0.387315\n",
      "step: 500, loss: 0.170296, W: 0.303034, b: 0.434404\n",
      "step: 550, loss: 0.166749, W: 0.297152, b: 0.476104\n",
      "step: 600, loss: 0.163967, W: 0.291943, b: 0.513032\n",
      "step: 650, loss: 0.161786, W: 0.287331, b: 0.545735\n",
      "step: 700, loss: 0.160075, W: 0.283246, b: 0.574695\n",
      "step: 750, loss: 0.158734, W: 0.279628, b: 0.600341\n",
      "step: 800, loss: 0.157682, W: 0.276425, b: 0.623052\n",
      "step: 850, loss: 0.156856, W: 0.273588, b: 0.643164\n",
      "step: 900, loss: 0.156209, W: 0.271076, b: 0.660974\n",
      "step: 950, loss: 0.155702, W: 0.268851, b: 0.676747\n",
      "step: 1000, loss: 0.155304, W: 0.266881, b: 0.690714\n"
     ]
    }
   ],
   "source": [
    "# Run training for the given number of steps.\n",
    "for step in range(1, training_steps + 1):\n",
    "    # Run the optimization to update W and b values.\n",
    "    run_optimization()\n",
    "    \n",
    "    if step % display_step == 0:\n",
    "        pred = linear_regression(X)\n",
    "        loss = mean_square(pred, Y)\n",
    "        print(\"step: %i, loss: %f, W: %f, b: %f\" % (step, loss, W.numpy(), b.numpy()))"
   ]
  },
  {
   "cell_type": "code",
   "execution_count": 16,
   "metadata": {},
   "outputs": [],
   "source": [
    "import matplotlib.pyplot as plt"
   ]
  },
  {
   "cell_type": "code",
   "execution_count": 17,
   "metadata": {},
   "outputs": [
    {
     "data": {
      "image/png": "[encoded data removed]",
      "text/plain": [
       "<Figure size 432x288 with 1 Axes>"
      ]
     },
     "metadata": {
      "needs_background": "light"
     },
     "output_type": "display_data"
    }
   ],
   "source": [
    "# Graphic display\n",
    "plt.plot(X, Y, 'ro', label='Original data')\n",
    "plt.plot(X, np.array(W * X + b), label='Fitted line')\n",
    "plt.legend()\n",
    "plt.show()"
   ]
  }
 ],
 "metadata": {
  "interpreter": {
   "hash": "3bd92750fd0074bd46dd7f8addb7623928d4d79f4e399c6fb11dbef2c255f2e1"
  },
  "kernelspec": {
   "display_name": "Python 2",
   "language": "python",
   "name": "python3"
  },
  "language_info": {
   "codemirror_mode": {
    "name": "ipython",
    "version": 3
   },
   "file_extension": ".py",
   "mimetype": "text/x-python",
   "name": "python",
   "nbconvert_exporter": "python",
   "pygments_lexer": "ipython3",
   "version": "3.9.7"
  }
 },
 "nbformat": 4,
 "nbformat_minor": 2
}
